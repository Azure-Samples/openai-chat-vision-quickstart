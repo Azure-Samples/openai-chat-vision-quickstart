{
 "cells": [
  {
   "cell_type": "markdown",
   "metadata": {},
   "source": [
    "# Chat with vision models\n"
   ]
  },
  {
   "cell_type": "markdown",
   "metadata": {},
   "source": [
    "## Authenticate to GitHub Models\n"
   ]
  },
  {
   "cell_type": "code",
   "execution_count": null,
   "metadata": {},
   "outputs": [],
   "source": [
    "import os\n",
    "\n",
    "import openai\n",
    "from dotenv import load_dotenv\n",
    "\n",
    "load_dotenv(\".env\", override=True)\n",
    "\n",
    "openai_client = openai.OpenAI(\n",
    "    api_key=os.environ[\"GITHUB_TOKEN\"],\n",
    "    base_url=\"https://models.inference.ai.azure.com\")"
   ]
  },
  {
   "cell_type": "markdown",
   "metadata": {},
   "source": [
    "## Send an image by Data URI\n",
    "\n"
   ]
  },
  {
   "cell_type": "code",
   "execution_count": null,
   "metadata": {},
   "outputs": [],
   "source": [
    "import base64\n",
    "\n",
    "\n",
    "def open_image_as_base64(filename):\n",
    "    with open(filename, \"rb\") as image_file:\n",
    "        image_data = image_file.read()\n",
    "    image_base64 = base64.b64encode(image_data).decode(\"utf-8\")\n",
    "    return f\"data:image/png;base64,{image_base64}\""
   ]
  },
  {
   "cell_type": "code",
   "execution_count": 26,
   "metadata": {},
   "outputs": [
    {
     "name": "stdout",
     "output_type": "stream",
     "text": [
      "The insect in the image is a crane fly, which is often mistaken for a giant mosquito due to its similar appearance. However, crane flies are harmless to humans and do not bite or sting. They are actually beneficial insects that help to pollinate plants and serve as a food source for other animals.\n",
      "\n",
      "Therefore, your 5-year-old does not need to be afraid of this insect in your bathroom. You can simply explain to them that it's a crane fly and that it won't hurt them. If you're concerned about the presence of crane flies in your bathroom, you may want to check for any standing water or moisture issues that could be attracting them.\n"
     ]
    }
   ],
   "source": [
    "response = openai_client.chat.completions.create(\n",
    "    model=\"Llama-4-Maverick-17B-128E-Instruct-FP8\",\n",
    "    temperature=0.2,\n",
    "    messages=[\n",
    "        {\n",
    "            \"role\": \"user\",\n",
    "            \"content\": [\n",
    "                {\"text\": \"does my 5 year old need to be afraid of this insect in our bathroom?\", \"type\": \"text\"},\n",
    "                {\"image_url\": {\"url\": open_image_as_base64(\"bathroom_insect.jpeg\")}, \"type\": \"image_url\"},\n",
    "            ],\n",
    "        }\n",
    "    ],\n",
    ")\n",
    "\n",
    "print(response.choices[0].message.content)"
   ]
  },
  {
   "cell_type": "markdown",
   "metadata": {},
   "source": [
    "​\n",
    "\n",
    "​\n",
    "​\n",
    "\n",
    "​\n",
    "\n",
    "​\n",
    "​​\n",
    "​\n",
    "​\n",
    "​\n",
    "​\n",
    "​\n",
    "​\n",
    "\n",
    "​\n",
    "\n",
    "​\n",
    "​\n",
    "​\n",
    "​\n",
    "​\n",
    "#### Automated image captioning"
   ]
  },
  {
   "cell_type": "code",
   "execution_count": 27,
   "metadata": {},
   "outputs": [
    {
     "name": "stdout",
     "output_type": "stream",
     "text": [
      "A diagram showing the components of a chat application and their connections, including Container App, Managed Identity, and Azure AI services. The Container App is linked to Managed Identity and Container Apps Environment. The components are represented by icons and labels.\n"
     ]
    }
   ],
   "source": [
    "response = openai_client.chat.completions.create(\n",
    "    model=\"Llama-4-Maverick-17B-128E-Instruct-FP8\",\n",
    "    temperature=0.5,\n",
    "    messages=[\n",
    "        {\n",
    "            \"role\": \"user\",\n",
    "            \"content\": [\n",
    "                {\"text\": \"Reply with an alt text for this image that is between 1 to 3 sentences. Do not reply with your reasoning.\", \"type\": \"text\"},\n",
    "                {\"image_url\": {\"url\": open_image_as_base64(\"azure_arch.png\")}, \"type\": \"image_url\"},\n",
    "            ],\n",
    "        }\n",
    "    ],\n",
    ")\n",
    "\n",
    "print(response.choices[0].message.content)"
   ]
  },
  {
   "cell_type": "markdown",
   "metadata": {},
   "source": [
    "​\n",
    "\n",
    "​\n",
    "​\n",
    "\n",
    "​\n",
    "\n",
    "​\n",
    "​​\n",
    "​\n",
    "​\n",
    "​\n",
    "​\n",
    "​\n",
    "​\n",
    "\n",
    "​\n",
    "\n",
    "​\n",
    "​\n",
    "​\n",
    "​\n",
    "​\n",
    "\n",
    "#### Assistance for vision-impaired"
   ]
  },
  {
   "cell_type": "code",
   "execution_count": 28,
   "metadata": {},
   "outputs": [
    {
     "name": "stdout",
     "output_type": "stream",
     "text": [
      "**Vegan Options on the Menu**\n",
      "\n",
      "Upon examining the menu, several options can be considered vegan-friendly with some modifications. The following dishes are potentially suitable for a vegan diet:\n",
      "\n",
      "*   **Spinaci Soffritti**: Fresh spinach sautéed with lemon and garlic. This dish is naturally vegan.\n",
      "*   **Panzanella con Fagioli**: Vine tomatoes and bread salad with sliced onions, basil, marinated Cannellini beans, cucumbers, and avocado. To make it vegan, request that the grilled chicken or steak be omitted.\n",
      "*   **Insalata Di Mista**: Seasonal greens tossed with Carmine's house vinaigrette. This salad is vegan-friendly; however, be aware that it can be customized with grilled chicken or steak, which should be avoided.\n",
      "*   **Zuppa Di Cavolo**: Cream of cauliflower Gratinée. This soup is likely to be vegan, but it's essential to confirm the ingredients used in the cream.\n",
      "*   **Zuppa Di Fagioli**: Tuscan Beans and Pasta. This soup appears to be vegan, but verification of the broth and any additional ingredients is necessary.\n",
      "\n",
      "To ensure that these options align with your dietary preferences, it's recommended to inform your server about your vegan requirements and ask for their assistance in customizing your meal accordingly.\n"
     ]
    }
   ],
   "source": [
    "response = openai_client.chat.completions.create(\n",
    "    model=\"Llama-4-Maverick-17B-128E-Instruct-FP8\",\n",
    "    messages=[\n",
    "        {\n",
    "            \"role\": \"user\",\n",
    "            \"content\": [\n",
    "                {\"text\": \"is there anything good for vegans on this menu?\", \"type\": \"text\"},\n",
    "                {\"image_url\": {\"url\": open_image_as_base64(\"menu.png\")}, \"type\": \"image_url\"},\n",
    "            ],\n",
    "        }\n",
    "    ],\n",
    ")\n",
    "\n",
    "print(response.choices[0].message.content)"
   ]
  },
  {
   "cell_type": "markdown",
   "metadata": {},
   "source": [
    "​\n",
    "\n",
    "​\n",
    "​\n",
    "\n",
    "​\n",
    "\n",
    "​\n",
    "​​\n",
    "​\n",
    "​\n",
    "​\n",
    "​\n",
    "​\n",
    "​\n",
    "\n",
    "​\n",
    "\n",
    "​\n",
    "​\n",
    "​\n",
    "​\n",
    "​\n",
    "\n",
    "\n",
    "#### Insurance claim processing"
   ]
  },
  {
   "cell_type": "code",
   "execution_count": 29,
   "metadata": {},
   "outputs": [
    {
     "name": "stdout",
     "output_type": "stream",
     "text": [
      "The claim that the damage is due to hail is not valid. The damage appears to be a large dent on the hood of the vehicle, which is not consistent with typical hail damage. Hail damage usually results in multiple small dents across the surface of the vehicle, rather than a single large dent. The damage shown in the image is more likely caused by a collision or other impact.\n"
     ]
    }
   ],
   "source": [
    "response = openai_client.chat.completions.create(\n",
    "    model=\"Llama-4-Maverick-17B-128E-Instruct-FP8\",\n",
    "    messages=[\n",
    "        {\n",
    "            \"role\": \"system\",\n",
    "            \"content\": (\n",
    "                \"You are an AI assistant that helps auto insurance companies process claims.\"\n",
    "                \"You accept images of damaged cars that are submitted with claims, and you are able to make judgments \"\n",
    "                \"about the causes of automobile damage, and the validity of claims regarding that damage.\"\n",
    "            ),\n",
    "        },\n",
    "        {\n",
    "            \"role\": \"user\",\n",
    "            \"content\": [\n",
    "                {\"text\": \"Claim states that this damage is due to hail. Is it valid?\", \"type\": \"text\"},\n",
    "                {\"image_url\": {\"url\": open_image_as_base64(\"dented_car.jpg\")}, \"type\": \"image_url\"},\n",
    "            ],\n",
    "        },\n",
    "    ],\n",
    ")\n",
    "\n",
    "print(response.choices[0].message.content)"
   ]
  },
  {
   "cell_type": "markdown",
   "metadata": {},
   "source": [
    "​\n",
    "\n",
    "​\n",
    "​\n",
    "\n",
    "​\n",
    "\n",
    "​\n",
    "​​\n",
    "​\n",
    "​\n",
    "​\n",
    "​\n",
    "​\n",
    "​\n",
    "\n",
    "​\n",
    "\n",
    "​\n",
    "​\n",
    "​\n",
    "​\n",
    "​\n",
    "\n",
    "#### Graph analysis"
   ]
  },
  {
   "cell_type": "code",
   "execution_count": 30,
   "metadata": {},
   "outputs": [
    {
     "name": "stdout",
     "output_type": "stream",
     "text": [
      "The chart shows the global tree cover annual loss in different climate zones from 2001 to 2023. The four climate zones are Boreal, Temperate, Subtropical, and Tropical.\n",
      "\n",
      "To determine which zone is losing the most trees, we need to look at the height of the bars for each zone. The Tropical zone has the tallest bars, indicating the largest annual loss of tree cover.\n",
      "\n",
      "**Key Observations:**\n",
      "\n",
      "*   The Tropical zone consistently has the largest annual loss of tree cover across all years.\n",
      "*   The annual loss in the Tropical zone is significantly higher than in the other three zones.\n",
      "*   The chart provides a visual representation of the data, making it clear that the Tropical zone is experiencing the most significant loss of tree cover.\n",
      "\n",
      "**Conclusion:**\n",
      "\n",
      "Based on the chart, the Tropical zone is losing the most trees.\n"
     ]
    }
   ],
   "source": [
    "response = openai_client.chat.completions.create(\n",
    "    model=\"Llama-4-Maverick-17B-128E-Instruct-FP8\",\n",
    "    messages=[\n",
    "        {\n",
    "            \"role\": \"user\",\n",
    "            \"content\": [\n",
    "                {\"text\": \"What zone are we losing the most trees in?\", \"type\": \"text\"},\n",
    "                {\n",
    "                    \"image_url\": {\n",
    "                        \"url\": open_image_as_base64(\"graph.png\"),\n",
    "                    },\n",
    "                    \"type\": \"image_url\",\n",
    "                },\n",
    "            ],\n",
    "        }\n",
    "    ],\n",
    "    temperature=0.5,\n",
    ")\n",
    "\n",
    "print(response.choices[0].message.content)"
   ]
  },
  {
   "cell_type": "markdown",
   "metadata": {},
   "source": [
    "​\n",
    "\n",
    "​\n",
    "​\n",
    "\n",
    "​\n",
    "\n",
    "​\n",
    "​​\n",
    "​\n",
    "​\n",
    "​\n",
    "​\n",
    "​\n",
    "​\n",
    "\n",
    "​\n",
    "\n",
    "​\n",
    "​\n",
    "​\n",
    "​\n",
    "​\n",
    "\n",
    "#### Table analysis"
   ]
  },
  {
   "cell_type": "code",
   "execution_count": 31,
   "metadata": {},
   "outputs": [
    {
     "name": "stdout",
     "output_type": "stream",
     "text": [
      "To determine the cheapest plant, we need to examine the prices listed in the table.\n",
      "\n",
      "**Step 1: Identify the Relevant Column**\n",
      "The relevant column for this task is the \"Price\" column.\n",
      "\n",
      "**Step 2: Scan the Price Column**\n",
      "Upon scanning the \"Price\" column, we find various prices associated with different plants.\n",
      "\n",
      "**Step 3: Compare Prices**\n",
      "Comparing the prices:\n",
      "\n",
      "*   $0.58 (Agrostis pallens - Thinggrass)\n",
      "*   $1.15 (Bouteloua gracilis - Blue grama, StubS)\n",
      "*   $1.83 (Centromadia pungens - Common tarweed, 4\"5; Madia elegans - Tarweed, 4\"5)\n",
      "*   $2.30 (Anthoxanthum occidentale - Vanilla grass, Stub)\n",
      "*   $3.60 (Eschscholzia caespitosa - Tufted Poppy, D-16S; Eschscholzia californica - California poppy, D-16S; Eschscholzia californica var. maritima - Coastal California Poppy, D-16S)\n",
      "*   $3.65 (Epilobium densiflorum - Dense Spike-primrose, 4\"5; Mentzelia lindleyi - Lindley's Blazing Star, 3\"5)\n",
      "*   $5.40 (Symphyotrichum subulatum - Slim marsh aster, D-16S; Trichostema lanceolatum - Vinegar weed, D-16S; Bouteloua gracilis - Blue grama, D-16S)\n",
      "*   $7.30 (Brodiaea californica - California brodiaea, D-16; Wyethia angustifolia - Narrowleaf mule ears, D-16)\n",
      "*   $10.90 (Wyethia angustifolia - Narrowleaf mule ears, D-40; Wyethia mollis - Woolly Mule's Ears, D-40)\n",
      "*   $15.70 (Chlorogalum pomeridianum - Soap plant, 1-Gal; Epipactis gigantea - Stream orchid, 1-Gal)\n",
      "\n",
      "**Step 4: Determine the Cheapest Plant**\n",
      "The lowest price is $0.58 for Agrostis pallens (Thinggrass).\n",
      "\n",
      "**Conclusion**\n",
      "The cheapest plant is **Agrostis pallens (Thinggrass)** at **$0.58**.\n"
     ]
    }
   ],
   "source": [
    "response = openai_client.chat.completions.create(\n",
    "    model=\"Llama-4-Maverick-17B-128E-Instruct-FP8\",\n",
    "    messages=[\n",
    "        {\n",
    "            \"role\": \"user\",\n",
    "            \"content\": [\n",
    "                {\"text\": \"What's the cheapest plant?\", \"type\": \"text\"},\n",
    "                {\"image_url\": {\"url\": open_image_as_base64(\"page_0.png\")}, \"type\": \"image_url\"},\n",
    "            ],\n",
    "        }\n",
    "    ],\n",
    ")\n",
    "\n",
    "print(response.choices[0].message.content)"
   ]
  }
 ],
 "metadata": {
  "kernelspec": {
   "display_name": ".venv",
   "language": "python",
   "name": "python3"
  },
  "language_info": {
   "codemirror_mode": {
    "name": "ipython",
    "version": 3
   },
   "file_extension": ".py",
   "mimetype": "text/x-python",
   "name": "python",
   "nbconvert_exporter": "python",
   "pygments_lexer": "ipython3",
   "version": "3.11.9"
  }
 },
 "nbformat": 4,
 "nbformat_minor": 2
}
