{
 "cells": [
  {
   "cell_type": "markdown",
   "metadata": {},
   "source": [
    "# Chat with vision models\n",
    "\n",
    "**If you're looking for the web application, check the src/ folder.**\n",
    "\n",
    "This notebook is just provided for manual experimentation with the vision model."
   ]
  },
  {
   "cell_type": "markdown",
   "metadata": {},
   "source": [
    "## Authenticate to OpenAI\n",
    "\n",
    "The following code connects to OpenAI, either using an Azure OpenAI account, GitHub models, or local Ollama model. See the README for instruction on configuring the `.env` file."
   ]
  },
  {
   "cell_type": "code",
   "execution_count": 1,
   "metadata": {},
   "outputs": [
    {
     "name": "stdout",
     "output_type": "stream",
     "text": [
      "Using GitHub-hosted model\n"
     ]
    }
   ],
   "source": [
    "import os\n",
    "\n",
    "import azure.identity\n",
    "import openai\n",
    "from dotenv import load_dotenv\n",
    "\n",
    "load_dotenv(\".env\", override=True)\n",
    "\n",
    "openai_host = os.getenv(\"OPENAI_HOST\")\n",
    "if openai_host == \"local\":\n",
    "    # Use a local endpoint like llamafile server\n",
    "    print(\"Using local OpenAI-compatible API with no key\")\n",
    "    openai_client = openai.OpenAI(api_key=\"no-key-required\", base_url=os.getenv(\"LOCAL_OPENAI_ENDPOINT\"))\n",
    "elif openai_host == \"github\":\n",
    "    print(\"Using GitHub-hosted model\")\n",
    "    openai_client = openai.OpenAI(\n",
    "        api_key=os.environ[\"GITHUB_TOKEN\"],\n",
    "        base_url=os.environ[\"GITHUB_MODELS_ENDPOINT\"],\n",
    "    )\n",
    "elif os.getenv(\"AZURE_OPENAI_KEY\"):\n",
    "    # Authenticate using an Azure OpenAI API key\n",
    "    # This is generally discouraged, but is provided for developers\n",
    "    # that want to develop locally inside the Docker container.\n",
    "    print(\"Using Azure OpenAI with key\")\n",
    "    openai_client = openai.AzureOpenAI(\n",
    "        api_version=os.getenv(\"AZURE_OPENAI_API_VERSION\") or \"2024-02-15-preview\",\n",
    "        azure_endpoint=os.getenv(\"AZURE_OPENAI_ENDPOINT\"),\n",
    "        api_key=os.getenv(\"AZURE_OPENAI_KEY\"),\n",
    "    )\n",
    "elif os.getenv(\"AZURE_OPENAI_ENDPOINT\"):\n",
    "    # Authenticate using the default Azure credential chain\n",
    "    # See https://docs.microsoft.com/azure/developer/python/azure-sdk-authenticate#defaultazurecredential\n",
    "    # This will *not* work inside a local Docker container.\n",
    "    # If using managed user-assigned identity, make sure that AZURE_CLIENT_ID is set\n",
    "    # to the client ID of the user-assigned identity.\n",
    "    print(\"Using Azure OpenAI with default credential\")\n",
    "    default_credential = azure.identity.DefaultAzureCredential(exclude_shared_token_cache_credential=True)\n",
    "    token_provider = azure.identity.get_bearer_token_provider(\n",
    "        default_credential, \"https://cognitiveservices.azure.com/.default\"\n",
    "    )\n",
    "    openai_client = openai.AzureOpenAI(\n",
    "        api_version=os.getenv(\"AZURE_OPENAI_API_VERSION\") or \"2024-05-01-preview\",\n",
    "        azure_endpoint=os.getenv(\"AZURE_OPENAI_ENDPOINT\"),\n",
    "        azure_ad_token_provider=token_provider,\n",
    "    )"
   ]
  },
  {
   "cell_type": "markdown",
   "metadata": {},
   "source": [
    "## Send an image by URL"
   ]
  },
  {
   "cell_type": "code",
   "execution_count": 2,
   "metadata": {},
   "outputs": [
    {
     "name": "stdout",
     "output_type": "stream",
     "text": [
      "No, this is not a unicorn. It appears to be an illustration of a bovine animal with two horns. A unicorn is typically depicted as a horse-like creature with a single horn on its forehead.\n"
     ]
    }
   ],
   "source": [
    "messages = [\n",
    "    {\n",
    "        \"role\": \"user\",\n",
    "        \"content\": [\n",
    "            {\"text\": \"Is this a unicorn?\", \"type\": \"text\"},\n",
    "            {\n",
    "                \"image_url\": {\"url\": \"https://upload.wikimedia.org/wikipedia/commons/6/6e/Ur-painting.jpg\"},\n",
    "                \"type\": \"image_url\",\n",
    "            },\n",
    "        ],\n",
    "    }\n",
    "]\n",
    "response = openai_client.chat.completions.create(model=os.environ[\"OPENAI_MODEL\"], messages=messages, temperature=0.5)\n",
    "\n",
    "print(response.choices[0].message.content)"
   ]
  },
  {
   "cell_type": "markdown",
   "metadata": {},
   "source": [
    "## Send an image by Data URI\n",
    "\n"
   ]
  },
  {
   "cell_type": "code",
   "execution_count": 4,
   "metadata": {},
   "outputs": [],
   "source": [
    "import base64\n",
    "\n",
    "\n",
    "def open_image_as_base64(filename):\n",
    "    with open(filename, \"rb\") as image_file:\n",
    "        image_data = image_file.read()\n",
    "    image_base64 = base64.b64encode(image_data).decode(\"utf-8\")\n",
    "    return f\"data:image/png;base64,{image_base64}\""
   ]
  },
  {
   "cell_type": "code",
   "execution_count": 5,
   "metadata": {},
   "outputs": [
    {
     "name": "stdout",
     "output_type": "stream",
     "text": [
      "Creating a unicorn from this image can be a fun artistic project! Here are some steps you can follow using digital editing software or traditional drawing:\n",
      "\n",
      "1. **Remove One Horn**: Erase or cover one of the horns to leave a single one.\n",
      "\n",
      "2. **Shape the Horn**: Extend and reshape the remaining horn to be long and spiral, reminiscent of a unicorn’s horn.\n",
      "\n",
      "3. **Change the Body Structure**: Slim down the body to make it more horse-like. You may want to adjust the legs and hooves for a more graceful appearance.\n",
      "\n",
      "4. **Add a Mane and Tail**: Draw or edit a long, flowing mane and tail. Consider adding some sparkle or a rainbow effect.\n",
      "\n",
      "5. **Enhance Features**: Make the eyes larger and more doe-like for a magical look.\n",
      "\n",
      "6. **Color Scheme**: Use a pastel color palette or give it a white body, which is typical for unicorns. Add any magical details like stars, glitter, or rainbows.\n",
      "\n",
      "7. **Background**: Consider changing the background to something magical, like a forest or a mystical landscape.\n",
      "\n",
      "Use layers and different brushes if using digital tools. Enjoy the transformation!\n"
     ]
    }
   ],
   "source": [
    "response = openai_client.chat.completions.create(\n",
    "    model=os.environ[\"OPENAI_MODEL\"],\n",
    "    messages=[\n",
    "        {\n",
    "            \"role\": \"user\",\n",
    "            \"content\": [\n",
    "                {\"text\": \"how could I make this into a unicorn though??\", \"type\": \"text\"},\n",
    "                {\"image_url\": {\"url\": open_image_as_base64(\"ur.jpg\")}, \"type\": \"image_url\"},\n",
    "            ],\n",
    "        }\n",
    "    ],\n",
    ")\n",
    "\n",
    "print(response.choices[0].message.content)"
   ]
  },
  {
   "cell_type": "markdown",
   "metadata": {},
   "source": [
    "## Use cases for image analysis"
   ]
  },
  {
   "cell_type": "markdown",
   "metadata": {},
   "source": [
    "### Insurance claim processing"
   ]
  },
  {
   "cell_type": "code",
   "execution_count": 27,
   "metadata": {},
   "outputs": [
    {
     "name": "stdout",
     "output_type": "stream",
     "text": [
      "The damage shown in the image is not consistent with typical hail damage. Hail damage usually appears as small dents or dings on the surface of a vehicle, often without causing significant deformation. The damage seen here, particularly the large dent and severe deformation of the hood, suggests an impact with a larger object, such as another vehicle or a stationary object.\n",
      "\n",
      "Therefore, the claim stating that the damage is due to hail does not appear to be valid based on the image provided.\n"
     ]
    }
   ],
   "source": [
    "response = openai_client.chat.completions.create(\n",
    "    model=os.environ[\"OPENAI_MODEL\"],\n",
    "    messages=[\n",
    "        {\n",
    "            \"role\": \"system\",\n",
    "            \"content\": (\n",
    "                \"You are an AI assistant that helps auto insurance companies process claims.\"\n",
    "                \"You accept images of damaged cars that are submitted with claims, and you are able to make judgments \"\n",
    "                \"about the causes of automobile damage, and the validity of claims regarding that damage.\"\n",
    "            ),\n",
    "        },\n",
    "        {\n",
    "            \"role\": \"user\",\n",
    "            \"content\": [\n",
    "                {\"text\": \"Claim states that this damage is due to hail. Is it valid?\", \"type\": \"text\"},\n",
    "                {\"image_url\": {\"url\": open_image_as_base64(\"dented_car.jpg\")}, \"type\": \"image_url\"},\n",
    "            ],\n",
    "        },\n",
    "    ],\n",
    ")\n",
    "\n",
    "print(response.choices[0].message.content)"
   ]
  },
  {
   "cell_type": "markdown",
   "metadata": {},
   "source": [
    "### Appliance help"
   ]
  },
  {
   "cell_type": "code",
   "execution_count": 28,
   "metadata": {},
   "outputs": [
    {
     "name": "stdout",
     "output_type": "stream",
     "text": [
      "To wash the dishes quickly, you can use the \"Quick 45°\" setting on your dishwasher. Here are the steps to set it:\n",
      "\n",
      "1. Press the \"On/Off\" button to turn the dishwasher on.\n",
      "2. Press the button labeled \"Quick 45°.\"\n",
      "3. Press the \"Start\" button.\n",
      "\n",
      "This should start your dishwasher on the quick wash cycle, allowing your dishes to be cleaned in a shorter amount of time.\n"
     ]
    }
   ],
   "source": [
    "response = openai_client.chat.completions.create(\n",
    "    model=os.environ[\"OPENAI_MODEL\"],\n",
    "    messages=[\n",
    "        {\n",
    "            \"role\": \"user\",\n",
    "            \"content\": [\n",
    "                {\"text\": \"How do I set this to wash the dishes quickly?\", \"type\": \"text\"},\n",
    "                {\"image_url\": {\"url\": open_image_as_base64(\"dishwasher.png\")}, \"type\": \"image_url\"},\n",
    "            ],\n",
    "        }\n",
    "    ],\n",
    ")\n",
    "\n",
    "print(response.choices[0].message.content)"
   ]
  },
  {
   "cell_type": "markdown",
   "metadata": {},
   "source": [
    "### Assistance for vision-impaired"
   ]
  },
  {
   "cell_type": "code",
   "execution_count": 29,
   "metadata": {},
   "outputs": [
    {
     "name": "stdout",
     "output_type": "stream",
     "text": [
      "There are a few options that can be good for vegans on this menu, though some might require slight modifications:\n",
      "\n",
      "### Antipasti\n",
      "- **Bruschetta Trio (only the Cherry tomato, caper, garlic confitura, and basil option)**: This selection is vegan if you avoid the other options with goat cheese and creme fraiche, or check if those can be substituted or omitted.\n",
      "\n",
      "- **Spinaci Soffritti**: Fresh spinach sautéed with lemon and garlic is vegan. \n",
      "\n",
      "### Zuppe & Insalate\n",
      "- **Panzanella con Fagioli**: Vine tomatoes and bread salad with sliced onions, basil, marinated Cannellini beans, cucumbers, and avocado. Ensure no non-vegan ingredients are in the vinaigrette.\n",
      "\n",
      "- **Insalata Di Mista**: Seasonal greens tossed with Carmine’s house vinaigrette. Check if the vinaigrette is vegan or request a vinegar and oil dressing instead. Avoid adding grilled chicken or steak.\n",
      "\n",
      "### Pasta & Risotto\n",
      "- **Spaghetti Ortolano**: Arugula, goat cheese, tomatoes, pine nuts, and extra virgin olive oil. To make it vegan, ask to omit the goat cheese.\n",
      "\n",
      "If you are at the restaurant, it would be helpful to ask the staff if they have any additional vegan options or can make modifications to other dishes to make them vegan-friendly.\n"
     ]
    }
   ],
   "source": [
    "response = openai_client.chat.completions.create(\n",
    "    model=os.environ[\"OPENAI_MODEL\"],\n",
    "    messages=[\n",
    "        {\n",
    "            \"role\": \"user\",\n",
    "            \"content\": [\n",
    "                {\"text\": \"is there anything good for vegans on this menu?\", \"type\": \"text\"},\n",
    "                {\"image_url\": {\"url\": open_image_as_base64(\"menu.png\")}, \"type\": \"image_url\"},\n",
    "            ],\n",
    "        }\n",
    "    ],\n",
    ")\n",
    "\n",
    "print(response.choices[0].message.content)"
   ]
  },
  {
   "cell_type": "markdown",
   "metadata": {},
   "source": [
    "## Automated image captioning"
   ]
  },
  {
   "cell_type": "code",
   "execution_count": 30,
   "metadata": {},
   "outputs": [
    {
     "name": "stdout",
     "output_type": "stream",
     "text": [
      "Diagram showing the architecture of a containerized chat application deployment using Azure services. The main components are:\n",
      "\n",
      "- Container Apps Environment (chat-app-cnbr6e7fwgzj2-con) at the top center.\n",
      "- Azure AI services (cnbr6e7fwgzj2-cog) at the top right.\n",
      "- Managed Identity (chat-app-cnbr6e7fwgzj2-id-aca) on the left.\n",
      "- Container App (chat-app-cnbr6e7fwg-ca) in the center connected to both the Container Apps Environment and Managed Identity.\n",
      "- Log Analytics Workspace (chat-app-cnbr6e7fwgzj2-log) at the bottom left.\n",
      "- Container Registry (chatappcnbr6e7fwgzj2registry) at the bottom center.\n",
      "- Key Vault (chatappcnbr6e7f-vault) at the bottom right.\n"
     ]
    }
   ],
   "source": [
    "response = openai_client.chat.completions.create(\n",
    "    model=os.environ[\"OPENAI_MODEL\"],\n",
    "    messages=[\n",
    "        {\n",
    "            \"role\": \"user\",\n",
    "            \"content\": [\n",
    "                {\"text\": \"Suggest an alt text for this image\", \"type\": \"text\"},\n",
    "                {\"image_url\": {\"url\": open_image_as_base64(\"azure_arch.png\")}, \"type\": \"image_url\"},\n",
    "            ],\n",
    "        }\n",
    "    ],\n",
    ")\n",
    "\n",
    "print(response.choices[0].message.content)"
   ]
  },
  {
   "cell_type": "markdown",
   "metadata": {},
   "source": [
    "### Table analysis"
   ]
  },
  {
   "cell_type": "code",
   "execution_count": 32,
   "metadata": {},
   "outputs": [
    {
     "name": "stdout",
     "output_type": "stream",
     "text": [
      "The cheapest plant available is the Thinngrass (Agrostis pallens) at $0.58.\n"
     ]
    }
   ],
   "source": [
    "response = openai_client.chat.completions.create(\n",
    "    model=os.environ[\"OPENAI_MODEL\"],\n",
    "    messages=[\n",
    "        {\n",
    "            \"role\": \"user\",\n",
    "            \"content\": [\n",
    "                {\"text\": \"What's the cheapest plant?\", \"type\": \"text\"},\n",
    "                {\"image_url\": {\"url\": open_image_as_base64(\"page_0.png\")}, \"type\": \"image_url\"},\n",
    "            ],\n",
    "        }\n",
    "    ],\n",
    ")\n",
    "\n",
    "print(response.choices[0].message.content)"
   ]
  }
 ],
 "metadata": {
  "language_info": {
   "name": "python"
  }
 },
 "nbformat": 4,
 "nbformat_minor": 2
}
