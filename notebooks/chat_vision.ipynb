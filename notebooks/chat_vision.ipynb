{
 "cells": [
  {
   "cell_type": "markdown",
   "metadata": {},
   "source": [
    "# Chat with vision models\n",
    "\n",
    "**If you're looking for the web application, check the src/ folder.**\n",
    "\n",
    "This notebook is just provided for manual experimentation with the vision model."
   ]
  },
  {
   "cell_type": "markdown",
   "metadata": {},
   "source": [
    "## Authenticate to OpenAI\n",
    "\n",
    "The following code connects to OpenAI, either using an Azure OpenAI account, GitHub models, or local Ollama model. See the README for instruction on configuring the `.env` file."
   ]
  },
  {
   "cell_type": "code",
   "execution_count": 1,
   "metadata": {},
   "outputs": [
    {
     "name": "stdout",
     "output_type": "stream",
     "text": [
      "Using GitHub-hosted model\n",
      "Model name: Phi-3.5-vision-instruct\n"
     ]
    }
   ],
   "source": [
    "import os\n",
    "\n",
    "import azure.identity\n",
    "import openai\n",
    "from dotenv import load_dotenv\n",
    "\n",
    "load_dotenv(\".env\", override=True)\n",
    "\n",
    "openai_host = os.getenv(\"OPENAI_HOST\")\n",
    "if openai_host == \"local\":\n",
    "    # Use a local endpoint like llamafile server\n",
    "    print(\"Using local OpenAI-compatible API with no key\")\n",
    "    openai_client = openai.OpenAI(api_key=\"no-key-required\", base_url=os.getenv(\"LOCAL_OPENAI_ENDPOINT\"))\n",
    "elif openai_host == \"github\":\n",
    "    print(\"Using GitHub-hosted model\")\n",
    "    openai_client = openai.OpenAI(\n",
    "        api_key=os.environ[\"GITHUB_TOKEN\"],\n",
    "        base_url=os.environ[\"GITHUB_MODELS_ENDPOINT\"],\n",
    "    )\n",
    "elif os.getenv(\"AZURE_OPENAI_KEY\"):\n",
    "    # Authenticate using an Azure OpenAI API key\n",
    "    # This is generally discouraged, but is provided for developers\n",
    "    # that want to develop locally inside the Docker container.\n",
    "    print(\"Using Azure OpenAI with key\")\n",
    "    openai_client = openai.AzureOpenAI(\n",
    "        api_version=os.getenv(\"AZURE_OPENAI_API_VERSION\") or \"2024-02-15-preview\",\n",
    "        azure_endpoint=os.getenv(\"AZURE_OPENAI_ENDPOINT\"),\n",
    "        api_key=os.getenv(\"AZURE_OPENAI_KEY\"),\n",
    "    )\n",
    "elif os.getenv(\"AZURE_OPENAI_ENDPOINT\"):\n",
    "    # Authenticate using the default Azure credential chain\n",
    "    # See https://docs.microsoft.com/azure/developer/python/azure-sdk-authenticate#defaultazurecredential\n",
    "    # This will *not* work inside a local Docker container.\n",
    "    # If using managed user-assigned identity, make sure that AZURE_CLIENT_ID is set\n",
    "    # to the client ID of the user-assigned identity.\n",
    "    print(\"Using Azure OpenAI with default credential\")\n",
    "    default_credential = azure.identity.DefaultAzureCredential(exclude_shared_token_cache_credential=True)\n",
    "    token_provider = azure.identity.get_bearer_token_provider(\n",
    "        default_credential, \"https://cognitiveservices.azure.com/.default\"\n",
    "    )\n",
    "    openai_client = openai.AzureOpenAI(\n",
    "        api_version=os.getenv(\"AZURE_OPENAI_API_VERSION\") or \"2024-05-01-preview\",\n",
    "        azure_endpoint=os.getenv(\"AZURE_OPENAI_ENDPOINT\"),\n",
    "        azure_ad_token_provider=token_provider,\n",
    "    )\n",
    "\n",
    "print(\"Model name:\", os.getenv(\"OPENAI_MODEL\"))"
   ]
  },
  {
   "cell_type": "markdown",
   "metadata": {},
   "source": [
    "## Send an image by URL"
   ]
  },
  {
   "cell_type": "code",
   "execution_count": 2,
   "metadata": {},
   "outputs": [
    {
     "name": "stdout",
     "output_type": "stream",
     "text": [
      " No, this is not a unicorn. The image depicts an ox or bull, which is a large, domesticated animal with a hump, dewlaps, and long horns.\n"
     ]
    }
   ],
   "source": [
    "messages = [\n",
    "    {\n",
    "        \"role\": \"user\",\n",
    "        \"content\": [\n",
    "            {\"text\": \"Is this a unicorn?\", \"type\": \"text\"},\n",
    "            {\n",
    "                \"image_url\": {\"url\": \"https://upload.wikimedia.org/wikipedia/commons/6/6e/Ur-painting.jpg\"},\n",
    "                \"type\": \"image_url\",\n",
    "            },\n",
    "        ],\n",
    "    }\n",
    "]\n",
    "response = openai_client.chat.completions.create(model=os.environ[\"OPENAI_MODEL\"], messages=messages, temperature=0.5)\n",
    "\n",
    "print(response.choices[0].message.content)"
   ]
  },
  {
   "cell_type": "markdown",
   "metadata": {},
   "source": [
    "## Send an image by Data URI\n",
    "\n"
   ]
  },
  {
   "cell_type": "code",
   "execution_count": 3,
   "metadata": {},
   "outputs": [],
   "source": [
    "import base64\n",
    "\n",
    "\n",
    "def open_image_as_base64(filename):\n",
    "    with open(filename, \"rb\") as image_file:\n",
    "        image_data = image_file.read()\n",
    "    image_base64 = base64.b64encode(image_data).decode(\"utf-8\")\n",
    "    return f\"data:image/png;base64,{image_base64}\""
   ]
  },
  {
   "cell_type": "code",
   "execution_count": 4,
   "metadata": {},
   "outputs": [
    {
     "name": "stdout",
     "output_type": "stream",
     "text": [
      " Sorry, the task is not possible as unicorns do not exist in reality.\n"
     ]
    }
   ],
   "source": [
    "response = openai_client.chat.completions.create(\n",
    "    model=os.environ[\"OPENAI_MODEL\"],\n",
    "    messages=[\n",
    "        {\n",
    "            \"role\": \"user\",\n",
    "            \"content\": [\n",
    "                {\"text\": \"how could I make this into a unicorn though??\", \"type\": \"text\"},\n",
    "                {\"image_url\": {\"url\": open_image_as_base64(\"ur.jpg\")}, \"type\": \"image_url\"},\n",
    "            ],\n",
    "        }\n",
    "    ],\n",
    ")\n",
    "\n",
    "print(response.choices[0].message.content)"
   ]
  },
  {
   "cell_type": "markdown",
   "metadata": {},
   "source": [
    "## Use cases for image analysis"
   ]
  },
  {
   "cell_type": "markdown",
   "metadata": {},
   "source": [
    "### Graph analysis"
   ]
  },
  {
   "cell_type": "code",
   "execution_count": 5,
   "metadata": {},
   "outputs": [
    {
     "name": "stdout",
     "output_type": "stream",
     "text": [
      " Tropical\n"
     ]
    }
   ],
   "source": [
    "messages = [\n",
    "    {\n",
    "        \"role\": \"user\",\n",
    "        \"content\": [\n",
    "            {\"text\": \"What zone are we losing the most trees in?\", \"type\": \"text\"},\n",
    "            {\n",
    "                \"image_url\": {\"url\": \"https://upload.wikimedia.org/wikipedia/commons/thumb/1/1f/20210331_Global_tree_cover_loss_-_World_Resources_Institute.svg/1280px-20210331_Global_tree_cover_loss_-_World_Resources_Institute.svg.png\"},\n",
    "                \"type\": \"image_url\",\n",
    "            },\n",
    "        ],\n",
    "    }\n",
    "]\n",
    "response = openai_client.chat.completions.create(model=os.environ[\"OPENAI_MODEL\"], messages=messages, temperature=0.5)\n",
    "\n",
    "print(response.choices[0].message.content)"
   ]
  },
  {
   "cell_type": "markdown",
   "metadata": {},
   "source": [
    "### Insurance claim processing"
   ]
  },
  {
   "cell_type": "code",
   "execution_count": 6,
   "metadata": {},
   "outputs": [
    {
     "name": "stdout",
     "output_type": "stream",
     "text": [
      " Based on the image provided, it appears that the vehicle has significant front-end damage with a shattered windshield and bumper. The damage pattern does not typically align with hail damage, which generally results in smooth, rounded dents rather than the jagged and shattered appearance seen here. It is more likely that this damage was caused by a high-speed collision or a similar event. Therefore, it would not be valid to claim this damage is due to hail based on the image provided.\n"
     ]
    }
   ],
   "source": [
    "response = openai_client.chat.completions.create(\n",
    "    model=os.environ[\"OPENAI_MODEL\"],\n",
    "    messages=[\n",
    "        {\n",
    "            \"role\": \"system\",\n",
    "            \"content\": (\n",
    "                \"You are an AI assistant that helps auto insurance companies process claims.\"\n",
    "                \"You accept images of damaged cars that are submitted with claims, and you are able to make judgments \"\n",
    "                \"about the causes of automobile damage, and the validity of claims regarding that damage.\"\n",
    "            ),\n",
    "        },\n",
    "        {\n",
    "            \"role\": \"user\",\n",
    "            \"content\": [\n",
    "                {\"text\": \"Claim states that this damage is due to hail. Is it valid?\", \"type\": \"text\"},\n",
    "                {\"image_url\": {\"url\": open_image_as_base64(\"dented_car.jpg\")}, \"type\": \"image_url\"},\n",
    "            ],\n",
    "        },\n",
    "    ],\n",
    ")\n",
    "\n",
    "print(response.choices[0].message.content)"
   ]
  },
  {
   "cell_type": "markdown",
   "metadata": {},
   "source": [
    "### Appliance help"
   ]
  },
  {
   "cell_type": "code",
   "execution_count": 7,
   "metadata": {},
   "outputs": [
    {
     "name": "stdout",
     "output_type": "stream",
     "text": [
      " Sorry, I cannot answer this question. The image shows a close-up of the control panel of a dishwasher with various settings and a digital timer display showing 1:05, but there is no information provided in the image that indicates how to set the dishwasher to wash the dishes quickly.\n"
     ]
    }
   ],
   "source": [
    "response = openai_client.chat.completions.create(\n",
    "    model=os.environ[\"OPENAI_MODEL\"],\n",
    "    messages=[\n",
    "        {\n",
    "            \"role\": \"user\",\n",
    "            \"content\": [\n",
    "                {\"text\": \"How do I set this to wash the dishes quickly?\", \"type\": \"text\"},\n",
    "                {\"image_url\": {\"url\": open_image_as_base64(\"dishwasher.png\")}, \"type\": \"image_url\"},\n",
    "            ],\n",
    "        }\n",
    "    ],\n",
    ")\n",
    "\n",
    "print(response.choices[0].message.content)"
   ]
  },
  {
   "cell_type": "markdown",
   "metadata": {},
   "source": [
    "### Assistance for vision-impaired"
   ]
  },
  {
   "cell_type": "code",
   "execution_count": 8,
   "metadata": {},
   "outputs": [
    {
     "name": "stdout",
     "output_type": "stream",
     "text": [
      " Based on the menu items listed, there are several vegan-friendly options available. These include the following:\n",
      "\n",
      "1. Antipasto Assorted - This includes assorted antipasto that is free from animal products.\n",
      "2. Bruschetta Fiore - This is a fresh basil and tomato bruschetta that is vegan-friendly.\n",
      "3. Farinata Di Pannocchia - A vegan frittata made without eggs.\n",
      "4. Fresh Spinach with Lemon and Garlic - This dish contains no animal products and is suitable for vegans.\n",
      "5. Grilled Hearts of Romanesco with Panettone - This is a vegan-friendly dish that includes Romanesco hearts and panettone.\n",
      "6. Insalata Di Balsamic Vinagrete - This is a seasonal green salad with balsamic vinagrette that is vegan-friendly.\n",
      "7. Insalata Di Pellino - This is a classic Caesar salad with house-made croutons, and it is vegan-friendly.\n",
      "8. Insalata Di Pelle - This is a seasonal green salad with carrot, parsley, and radish, and it is vegan-friendly.\n",
      "9. Insalata Di Pelle - This is a seasonal green salad with parsley, radish, and seasonal greens, and it is vegan-friendly.\n",
      "\n",
      "These are just a few examples from the menu, and there may be other vegan-friendly options available on the menu as well.\n"
     ]
    }
   ],
   "source": [
    "response = openai_client.chat.completions.create(\n",
    "    model=os.environ[\"OPENAI_MODEL\"],\n",
    "    messages=[\n",
    "        {\n",
    "            \"role\": \"user\",\n",
    "            \"content\": [\n",
    "                {\"text\": \"is there anything good for vegans on this menu?\", \"type\": \"text\"},\n",
    "                {\"image_url\": {\"url\": open_image_as_base64(\"menu.png\")}, \"type\": \"image_url\"},\n",
    "            ],\n",
    "        }\n",
    "    ],\n",
    ")\n",
    "\n",
    "print(response.choices[0].message.content)"
   ]
  },
  {
   "cell_type": "markdown",
   "metadata": {},
   "source": [
    "## Automated image captioning"
   ]
  },
  {
   "cell_type": "code",
   "execution_count": 9,
   "metadata": {},
   "outputs": [
    {
     "name": "stdout",
     "output_type": "stream",
     "text": [
      " This image appears to be a diagram illustrating various components of a cloud-based application environment, specifically related to chat services and container applications. The components include a container app environment, managed identity, a chat-app-cnbr6e7fwgzj2-id-aca, a chat-app-cnbr6e7fwgzj2-ca, a chatappcnbr6e7fwgzj2-log, a chatappcnbr6e7f-vault, a chatapp-cnbr6e7fwgzj2-log, a chatappcnbr6e7f-vault, and a container registry. These components are likely part of a larger Azure cloud service architecture.\n"
     ]
    }
   ],
   "source": [
    "response = openai_client.chat.completions.create(\n",
    "    model=os.environ[\"OPENAI_MODEL\"],\n",
    "    messages=[\n",
    "        {\n",
    "            \"role\": \"user\",\n",
    "            \"content\": [\n",
    "                {\"text\": \"Suggest an alt text for this image\", \"type\": \"text\"},\n",
    "                {\"image_url\": {\"url\": open_image_as_base64(\"azure_arch.png\")}, \"type\": \"image_url\"},\n",
    "            ],\n",
    "        }\n",
    "    ],\n",
    ")\n",
    "\n",
    "print(response.choices[0].message.content)"
   ]
  },
  {
   "cell_type": "markdown",
   "metadata": {},
   "source": [
    "### Table analysis"
   ]
  },
  {
   "cell_type": "code",
   "execution_count": 10,
   "metadata": {},
   "outputs": [
    {
     "name": "stdout",
     "output_type": "stream",
     "text": [
      " Based on the image, the cheapest plant listed is the 'California poppy' priced at $1.65, which is the lowest price compared to other plants listed in the image.\n"
     ]
    }
   ],
   "source": [
    "response = openai_client.chat.completions.create(\n",
    "    model=os.environ[\"OPENAI_MODEL\"],\n",
    "    messages=[\n",
    "        {\n",
    "            \"role\": \"user\",\n",
    "            \"content\": [\n",
    "                {\"text\": \"What's the cheapest plant?\", \"type\": \"text\"},\n",
    "                {\"image_url\": {\"url\": open_image_as_base64(\"page_0.png\")}, \"type\": \"image_url\"},\n",
    "            ],\n",
    "        }\n",
    "    ],\n",
    ")\n",
    "\n",
    "print(response.choices[0].message.content)"
   ]
  }
 ],
 "metadata": {
  "language_info": {
   "name": "python"
  }
 },
 "nbformat": 4,
 "nbformat_minor": 2
}
