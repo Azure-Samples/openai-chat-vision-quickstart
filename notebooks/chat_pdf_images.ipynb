{
 "cells": [
  {
   "cell_type": "markdown",
   "metadata": {},
   "source": [
    "# Chat with PDF page images\n",
    "\n",
    "This notebook demonstrates how to convert PDF pages to images and send them to a vision model for inference"
   ]
  },
  {
   "cell_type": "markdown",
   "metadata": {},
   "source": [
    "## Authenticate to GitHub Models\n"
   ]
  },
  {
   "cell_type": "code",
   "execution_count": 15,
   "metadata": {},
   "outputs": [],
   "source": [
    "import os\n",
    "\n",
    "import openai\n",
    "from dotenv import load_dotenv\n",
    "\n",
    "load_dotenv(\".env\", override=True)\n",
    "\n",
    "openai_client = openai.OpenAI(\n",
    "    api_key=os.environ[\"GITHUB_TOKEN\"],\n",
    "    base_url=\"https://models.inference.ai.azure.com\")"
   ]
  },
  {
   "cell_type": "markdown",
   "metadata": {},
   "source": [
    "## Convert PDFs to images"
   ]
  },
  {
   "cell_type": "code",
   "execution_count": 16,
   "metadata": {},
   "outputs": [
    {
     "name": "stdout",
     "output_type": "stream",
     "text": [
      "Requirement already satisfied: Pillow in /Users/pamelafox/openai-chat-vision-quickstart/.venv/lib/python3.11/site-packages (10.4.0)\n",
      "Requirement already satisfied: PyMuPDF in /Users/pamelafox/openai-chat-vision-quickstart/.venv/lib/python3.11/site-packages (1.24.9)\n",
      "Requirement already satisfied: PyMuPDFb==1.24.9 in /Users/pamelafox/openai-chat-vision-quickstart/.venv/lib/python3.11/site-packages (from PyMuPDF) (1.24.9)\n",
      "Note: you may need to restart the kernel to use updated packages.\n"
     ]
    }
   ],
   "source": [
    "%pip install Pillow PyMuPDF"
   ]
  },
  {
   "cell_type": "code",
   "execution_count": 17,
   "metadata": {},
   "outputs": [],
   "source": [
    "import pymupdf\n",
    "from PIL import Image\n",
    "\n",
    "filename = \"plants.pdf\"\n",
    "doc = pymupdf.open(filename)\n",
    "for i in range(doc.page_count):\n",
    "    page = doc.load_page(i)\n",
    "    pix = page.get_pixmap()\n",
    "    original_img = Image.frombytes(\"RGB\", [pix.width, pix.height], pix.samples)\n",
    "    original_img.save(f\"page_{i}.png\")\n"
   ]
  },
  {
   "cell_type": "markdown",
   "metadata": {},
   "source": [
    "## Send images to vision model"
   ]
  },
  {
   "cell_type": "code",
   "execution_count": 18,
   "metadata": {},
   "outputs": [
    {
     "name": "stdout",
     "output_type": "stream",
     "text": [
      "| Species | Common Name | Qty | Size | Price | Source County | Notes |\n",
      "| --- | --- | --- | --- | --- | --- | --- |\n",
      "| Annual |  |  |  |  |  |  |\n",
      "| Centromadia pungens | Common tarweed | 8 | 4.5S | $1.83 | Unknown | 75% off sale |\n",
      "| Epilobium densiflorum | Dense Spike-primrose | 3 | 4.5S | $3.65 | San Mateo | 50% off sale |\n",
      "| Eschscholzia caespitosa | Tufted Poppy | 119 | D-16S | $3.60 | Unknown | 50% off sale |\n",
      "| Eschscholzia californica | California poppy | 85 | D-16S | $3.60 | Bay Area | 50% off sale |\n",
      "| Eschscholzia californica 'Purple Gleam' | Purple Gleam Poppy | 2 | D-16S | $3.60 | Unknown | 50% off sale |\n",
      "| Eschscholzia californica var. maritima | Coastal California Poppy | 137 | D-16S | $3.60 | Unknown | 50% off sale |\n",
      "| Madia elegans | Tarweed | 6 | 4.5S | $1.83 | Unknown | 75% off sale |\n",
      "| Mentzelia lindleyi | Lindley's Blazing Star | 35 | 3.5S | $3.65 | Unknown | 50% off sale |\n",
      "| Symphyotrichum subulatum | Slim marsh aster | 10 | D-16S | $5.40 | Contra Costa | 25% off sale |\n",
      "| Trichostema lanceolatum | Vinegar weed | 11 | D-16S | $5.40 | Contra Costa | 25% off sale |\n",
      "| Trichostema lanceolatum | Vinegar weed | 20 | D-16S | $5.40 | Stanislaus | 25% off sale |\n",
      "| Bulb |  |  |  |  |  |  |\n",
      "| Brodiaea californica | California brodiaea | 31 | D-16 | $7.30 | Bay Area |  |\n",
      "| Chlorogalum pomeridianum | Soap plant | 20 | 1-4Sal | $15.70 | E. Marin |  |\n",
      "| Epipactis gigantea | Stream orchid | 19 | 1-6Sal | $15.70 | Unknown |  |\n",
      "| Wyethia angustifolia | Narrowleaf mule ears | 31 | D-16 | $7.30 | Marin |  |\n",
      "| Wyethia angustifolia | Narrowleaf mule ears | 43 | D-16 | $7.30 | Sonoma |  |\n",
      "| Wyethia angustifolia | Narrowleaf mule ears | 2 | D-40 | $10.90 | Sonoma |  |\n",
      "| Wyethia mollis | Woolly Mule's Ears | 2 | D-40 | $10.90 | Sonoma |  |\n",
      "| Grass |  |  |  |  |  |  |\n",
      "| Agrostis pallens | Thingrass | 564 | StubS | $0.58 | Unknown | 75% off sale |\n",
      "| Anthoxanthum occidentale | Vanilla grass | 146 | Stub | $2.30 | Unknown |  |\n",
      "| Bouteloua gracilis | Blue grama | 111 | StubS | $1.15 | Unknown | 50% off sale |\n",
      "| Bouteloua gracilis | Blue grama | 57 | D-16S | $5.40 | Unknown | 25% off sale |\n"
     ]
    }
   ],
   "source": [
    "import base64\n",
    "\n",
    "\n",
    "def open_image_as_base64(filename):\n",
    "    with open(filename, \"rb\") as image_file:\n",
    "        image_data = image_file.read()\n",
    "    image_base64 = base64.b64encode(image_data).decode(\"utf-8\")\n",
    "    return f\"data:image/png;base64,{image_base64}\"\n",
    "\n",
    "\n",
    "response = openai_client.chat.completions.create(\n",
    "    model=\"Llama-4-Maverick-17B-128E-Instruct-FP8\",\n",
    "    temperature=0.2,\n",
    "    messages=[\n",
    "        {\n",
    "            \"role\": \"user\",\n",
    "            \"content\": [\n",
    "                {\n",
    "                    \"text\": \"Output the table on this page as Markdown table\",\n",
    "                    \"type\": \"text\",\n",
    "                },\n",
    "                {\n",
    "                    \"image_url\": {\"url\": open_image_as_base64(\"page_0.png\")},\n",
    "                    \"type\": \"image_url\",\n",
    "                },\n",
    "            ],\n",
    "        }\n",
    "    ]\n",
    ")\n",
    "\n",
    "print(response.choices[0].message.content)"
   ]
  }
 ],
 "metadata": {
  "kernelspec": {
   "display_name": ".venv",
   "language": "python",
   "name": "python3"
  },
  "language_info": {
   "codemirror_mode": {
    "name": "ipython",
    "version": 3
   },
   "file_extension": ".py",
   "mimetype": "text/x-python",
   "name": "python",
   "nbconvert_exporter": "python",
   "pygments_lexer": "ipython3",
   "version": "3.11.9"
  }
 },
 "nbformat": 4,
 "nbformat_minor": 2
}
