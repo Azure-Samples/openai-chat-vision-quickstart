{
 "cells": [
  {
   "cell_type": "markdown",
   "metadata": {},
   "source": [
    "# Chat with PDF page images\n",
    "\n",
    "**If you're looking or the web application, check the src/ folder.** \n",
    "\n",
    "This notebook demonstrates how to convert PDF pages to images and send them to a vision model for inference"
   ]
  },
  {
   "cell_type": "markdown",
   "metadata": {},
   "source": [
    "## Authenticate to OpenAI\n",
    "\n",
    "The following code connects to OpenAI, either using an Azure OpenAI account, GitHub models, or local Ollama model. See the README for instruction on configuring the `.env` file."
   ]
  },
  {
   "cell_type": "code",
   "execution_count": 1,
   "metadata": {},
   "outputs": [
    {
     "name": "stdout",
     "output_type": "stream",
     "text": [
      "Using GitHub Models with GITHUB_TOKEN as key\n",
      "Using model openai/gpt-4o\n"
     ]
    }
   ],
   "source": [
    "import os\n",
    "\n",
    "import azure.identity\n",
    "import openai\n",
    "from dotenv import load_dotenv\n",
    "\n",
    "load_dotenv(\".env\", override=True)\n",
    "\n",
    "openai_host = os.getenv(\"OPENAI_HOST\", \"github\")\n",
    "\n",
    "if openai_host == \"github\":\n",
    "    print(\"Using GitHub Models with GITHUB_TOKEN as key\")\n",
    "    openai_client = openai.OpenAI(\n",
    "        api_key=os.environ[\"GITHUB_TOKEN\"],\n",
    "        base_url=\"https://models.github.ai/inference\",\n",
    "    )\n",
    "    model_name = os.getenv(\"OPENAI_MODEL\", \"openai/gpt-4o\")\n",
    "elif openai_host == \"local\":\n",
    "    print(\"Using local OpenAI-compatible API with no key\")\n",
    "    openai_client = openai.OpenAI(api_key=\"no-key-required\", base_url=os.environ[\"LOCAL_OPENAI_ENDPOINT\"])\n",
    "    model_name = os.getenv(\"OPENAI_MODEL\", \"gpt-4o\")\n",
    "elif openai_host == \"azure\" and os.getenv(\"AZURE_OPENAI_KEY_FOR_CHATVISION\"):\n",
    "    # Authenticate using an Azure OpenAI API key\n",
    "    # This is generally discouraged, but is provided as a convenience\n",
    "    print(\"Using Azure OpenAI with key\")\n",
    "    openai_client = openai.OpenAI(\n",
    "        base_url=os.environ[\"AZURE_OPENAI_ENDPOINT\"] + \"/openai/v1/\",\n",
    "        api_key=os.environ[\"AZURE_OPENAI_KEY_FOR_CHATVISION\"],\n",
    "    )\n",
    "    # This is actually the deployment name, not the model name\n",
    "    model_name = os.getenv(\"OPENAI_MODEL\", \"gpt-4o\")\n",
    "elif openai_host == \"azure\" and os.getenv(\"AZURE_OPENAI_ENDPOINT\"):\n",
    "    tenant_id = os.environ[\"AZURE_TENANT_ID\"]\n",
    "    print(\"Using Azure OpenAI with Azure Developer CLI credential for tenant id\", tenant_id)\n",
    "    default_credential = azure.identity.AzureDeveloperCliCredential(tenant_id=tenant_id)\n",
    "    token_provider = azure.identity.get_bearer_token_provider(\n",
    "        default_credential, \"https://cognitiveservices.azure.com/.default\"\n",
    "    )\n",
    "    openai_client = openai.OpenAI(\n",
    "        base_url=os.environ[\"AZURE_OPENAI_ENDPOINT\"] + \"/openai/v1/\",\n",
    "        api_key=token_provider,\n",
    "    )\n",
    "    # This is actually the deployment name, not the model name\n",
    "    model_name = os.getenv(\"OPENAI_MODEL\", \"gpt-4o\")\n",
    "\n",
    "print(f\"Using model {model_name}\")"
   ]
  },
  {
   "cell_type": "markdown",
   "metadata": {},
   "source": [
    "## Convert PDFs to images"
   ]
  },
  {
   "cell_type": "code",
   "execution_count": 2,
   "metadata": {},
   "outputs": [
    {
     "name": "stdout",
     "output_type": "stream",
     "text": [
      "Defaulting to user installation because normal site-packages is not writeable\n",
      "Collecting Pillow\n",
      "  Downloading pillow-11.3.0-cp311-cp311-manylinux_2_27_x86_64.manylinux_2_28_x86_64.whl.metadata (9.0 kB)\n",
      "Collecting PyMuPDF\n",
      "  Downloading pymupdf-1.26.5-cp39-abi3-manylinux_2_28_x86_64.whl.metadata (3.4 kB)\n",
      "Downloading pillow-11.3.0-cp311-cp311-manylinux_2_27_x86_64.manylinux_2_28_x86_64.whl (6.6 MB)\n",
      "\u001b[2K   \u001b[90m━━━━━━━━━━━━━━━━━━━━━━━━━━━━━━━━━━━━━━━━\u001b[0m \u001b[32m6.6/6.6 MB\u001b[0m \u001b[31m36.8 MB/s\u001b[0m eta \u001b[36m0:00:00\u001b[0m00:01\u001b[0m00:01\u001b[0m\n",
      "\u001b[?25hDownloading pymupdf-1.26.5-cp39-abi3-manylinux_2_28_x86_64.whl (24.1 MB)\n",
      "\u001b[2K   \u001b[90m━━━━━━━━━━━━━━━━━━━━━━━━━━━━━━━━━━━━━━━━\u001b[0m \u001b[32m24.1/24.1 MB\u001b[0m \u001b[31m24.9 MB/s\u001b[0m eta \u001b[36m0:00:00\u001b[0m:00:01\u001b[0m00:01\u001b[0m\n",
      "\u001b[?25hInstalling collected packages: PyMuPDF, Pillow\n",
      "Successfully installed Pillow-11.3.0 PyMuPDF-1.26.5\n",
      "\n",
      "\u001b[1m[\u001b[0m\u001b[34;49mnotice\u001b[0m\u001b[1;39;49m]\u001b[0m\u001b[39;49m A new release of pip is available: \u001b[0m\u001b[31;49m24.0\u001b[0m\u001b[39;49m -> \u001b[0m\u001b[32;49m25.2\u001b[0m\n",
      "\u001b[1m[\u001b[0m\u001b[34;49mnotice\u001b[0m\u001b[1;39;49m]\u001b[0m\u001b[39;49m To update, run: \u001b[0m\u001b[32;49mpip install --upgrade pip\u001b[0m\n",
      "Note: you may need to restart the kernel to use updated packages.\n"
     ]
    }
   ],
   "source": [
    "%pip install Pillow PyMuPDF"
   ]
  },
  {
   "cell_type": "code",
   "execution_count": 3,
   "metadata": {},
   "outputs": [],
   "source": [
    "import pymupdf\n",
    "from PIL import Image\n",
    "\n",
    "filename = \"plants.pdf\"\n",
    "doc = pymupdf.open(filename)\n",
    "for i in range(doc.page_count):\n",
    "    doc = pymupdf.open(filename)\n",
    "    page = doc.load_page(i)\n",
    "    pix = page.get_pixmap()\n",
    "    original_img = Image.frombytes(\"RGB\", [pix.width, pix.height], pix.samples)\n",
    "    original_img.save(f\"page_{i}.png\")"
   ]
  },
  {
   "cell_type": "markdown",
   "metadata": {},
   "source": [
    "## Send images to vision model"
   ]
  },
  {
   "cell_type": "code",
   "execution_count": 4,
   "metadata": {},
   "outputs": [],
   "source": [
    "import base64\n",
    "\n",
    "\n",
    "def open_image_as_base64(filename):\n",
    "    with open(filename, \"rb\") as image_file:\n",
    "        image_data = image_file.read()\n",
    "    image_base64 = base64.b64encode(image_data).decode(\"utf-8\")\n",
    "    return f\"data:image/png;base64,{image_base64}\""
   ]
  },
  {
   "cell_type": "code",
   "execution_count": 5,
   "metadata": {},
   "outputs": [
    {
     "name": "stdout",
     "output_type": "stream",
     "text": [
      "The following plants are listed in the document:\n",
      "\n",
      "### Annuals\n",
      "1. **Centromadia pungens** - Common tarweed\n",
      "2. **Epilobium densiflorum** - Dense Spike-primrose\n",
      "3. **Eschscholzia caespitosa** - Tufted Poppy\n",
      "4. **Eschscholzia californica** - California poppy\n",
      "5. **Eschscholzia californica 'Purple Gleam'** - Purple Gleam Poppy\n",
      "6. **Eschscholzia californica var. maritima** - Coastal California Poppy\n",
      "7. **Madia elegans** - Tarweed\n",
      "8. **Mentzelia lindleyi** - Lindley’s Blazing Star\n",
      "9. **Symphyotrichum subulatum** - Slim marsh aster\n",
      "10. **Trichostema lanceolatum** - Vinegar weed\n",
      "\n",
      "### Bulbs\n",
      "11. **Brodiaea californica** - California brodiaea\n",
      "12. **Chlorogalum pomeridianum** - Soap plant\n",
      "13. **Epipactis gigantea** - Stream orchid\n",
      "14. **Wyethia angustifolia** - Narrowleaf mule ears\n",
      "15. **Wyethia mollis** - Woolly Mule’s Ear’s\n",
      "\n",
      "### Grasses\n",
      "16. **Agrostis pallens** - Thingrass\n",
      "17. **Anthoxanthum occidentale** - Vanilla grass\n",
      "18. **Bouteloua gracilis** - Blue grama\n",
      "\n",
      "### Perennials\n",
      "19. **Achillea millefolium** - Yarrow\n",
      "20. **Ambrosia chamissonis** - Silvery beachweed\n",
      "21. **Anemopsis californica** - Yerba mansa\n",
      "22. **Angelica hendersonii** - Coast Angelica\n",
      "23. **Apocynum cannabinum** - Hemp Dogbane\n",
      "24. **Aquilegia eximia** - Serpentine columbine\n",
      "25. **Aristolochia californica** - California Dutchman’s\n",
      "26. **Armeria maritima** - Sea thrift\n",
      "27. **Artemisia douglasiana** - Mugwort\n",
      "28. **Asarum caudatum** - Wild ginger\n",
      "29. **Asclepias californica** - California Milkweed\n",
      "30. **Asclepias eriocarpa** - Woolypod milkweed\n",
      "31. **Asclepias fascicularis** - Narrow leaf milkweed\n",
      "32. **Asclepias speciosa** - Showy milkweed\n",
      "33. **Atriplex leucophylla** - Beach Salt Bush\n",
      "34. **Baccharis glutinosa** - Marsh baccharis\n",
      "35. **Bidens laevis** - Smooth Bur Marigold\n",
      "36. **Bolboschoenus maritimus** - Cosmopolitan bulrush\n",
      "37. **Calystegia occidentalis** - Western chaparral\n",
      "38. **Calystegia purpurata ssp. saxicola** - Bodega Morning Glory\n",
      "39. **Camissoniopsis cheiranthifolia** - Beach primrose\n",
      "40. **Campanula rotundifolia** - Round Leaf Harebell\n",
      "41. **Carex athrostachya** - Slenderbeak sedge\n",
      "42. **Carex barbarae** - Santa Barbara sedge\n",
      "43. **Bromus laevipes** - Woodland Brome\n",
      "44. **Danthonia californica** - California oatgrass\n",
      "45. **Festuca californica** - California fescue\n",
      "46. **Festuca idahoensis** - Idaho fescue\n",
      "47. **Festuca rubra** - Red fescue\n",
      "48. **Sporobolus airoides** - Alkali sacaton\n",
      "49. **Stipa cernua** - Nodding needlegrass\n",
      "50. **Stipa lepida** - Foothill needlegrass\n",
      "51. **Stipa pulchra** - Purple needlegrass\n"
     ]
    }
   ],
   "source": [
    "user_content = [{\"text\": \"What plants are listed on these pages?\", \"type\": \"text\"}]\n",
    "# Process just the first few pages, as processing all doc.page_count pages is slow\n",
    "for i in range(3):\n",
    "    user_content.append({\"image_url\": {\"url\": open_image_as_base64(f\"page_{i}.png\")}, \"type\": \"image_url\"})\n",
    "\n",
    "response = openai_client.chat.completions.create(model=model_name, messages=[{\"role\": \"user\", \"content\": user_content}])\n",
    "\n",
    "print(response.choices[0].message.content)"
   ]
  }
 ],
 "metadata": {
  "kernelspec": {
   "display_name": "Python 3",
   "language": "python",
   "name": "python3"
  },
  "language_info": {
   "codemirror_mode": {
    "name": "ipython",
    "version": 3
   },
   "file_extension": ".py",
   "mimetype": "text/x-python",
   "name": "python",
   "nbconvert_exporter": "python",
   "pygments_lexer": "ipython3",
   "version": "3.11.13"
  }
 },
 "nbformat": 4,
 "nbformat_minor": 2
}
