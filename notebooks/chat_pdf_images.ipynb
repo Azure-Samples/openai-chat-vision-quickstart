{
 "cells": [
  {
   "cell_type": "markdown",
   "metadata": {},
   "source": [
    "# Chat with PDF page images\n",
    "\n",
    "**If you're looking or the web application, check the src/ folder.** \n",
    "\n",
    "This notebook demonstrates how to convert PDF pages to images and send them to a vision model for inference"
   ]
  },
  {
   "cell_type": "markdown",
   "metadata": {},
   "source": [
    "## Authenticate to OpenAI\n",
    "\n",
    "The following code connects to OpenAI, either using an Azure OpenAI account, GitHub models, or local Ollama model. See the README for instruction on configuring the `.env` file."
   ]
  },
  {
   "cell_type": "code",
   "execution_count": 8,
   "metadata": {},
   "outputs": [
    {
     "name": "stdout",
     "output_type": "stream",
     "text": [
      "Using GitHub Models with GITHUB_TOKEN as key\n",
      "Using model gpt-4o\n"
     ]
    }
   ],
   "source": [
    "import os\n",
    "\n",
    "import azure.identity\n",
    "import openai\n",
    "from dotenv import load_dotenv\n",
    "\n",
    "load_dotenv(\".env\", override=True)\n",
    "\n",
    "openai_host = os.getenv(\"OPENAI_HOST\", \"github\")\n",
    "\n",
    "if openai_host == \"github\":\n",
    "    print(\"Using GitHub Models with GITHUB_TOKEN as key\")\n",
    "    openai_client = openai.OpenAI(\n",
    "        api_key=os.environ[\"GITHUB_TOKEN\"],\n",
    "        base_url=\"https://models.github.ai/inference\",\n",
    "    )\n",
    "    model_name = os.getenv(\"OPENAI_MODEL\", \"openai/gpt-4o\")\n",
    "elif openai_host == \"local\":\n",
    "    print(\"Using local OpenAI-compatible API with no key\")\n",
    "    openai_client = openai.OpenAI(api_key=\"no-key-required\", base_url=os.environ[\"LOCAL_OPENAI_ENDPOINT\"])\n",
    "    model_name = os.getenv(\"OPENAI_MODEL\", \"gpt-4o\")\n",
    "elif openai_host == \"azure\" and os.getenv(\"AZURE_OPENAI_KEY_FOR_CHATVISION\"):\n",
    "    # Authenticate using an Azure OpenAI API key\n",
    "    # This is generally discouraged, but is provided as a convenience\n",
    "    print(\"Using Azure OpenAI with key\")\n",
    "    openai_client = openai.OpenAI(\n",
    "        base_url=os.environ[\"AZURE_OPENAI_ENDPOINT\"] + \"/openai/v1/\",\n",
    "        api_key=os.environ[\"AZURE_OPENAI_KEY_FOR_CHATVISION\"],\n",
    "    )\n",
    "    # This is actually the deployment name, not the model name\n",
    "    model_name = os.getenv(\"OPENAI_MODEL\", \"gpt-4o\")\n",
    "elif openai_host == \"azure\" and os.getenv(\"AZURE_OPENAI_ENDPOINT\"):\n",
    "    tenant_id = os.environ[\"AZURE_TENANT_ID\"]\n",
    "    print(\"Using Azure OpenAI with Azure Developer CLI credential for tenant id\", tenant_id)\n",
    "    default_credential = azure.identity.AzureDeveloperCliCredential(tenant_id=tenant_id)\n",
    "    token_provider = azure.identity.get_bearer_token_provider(\n",
    "        default_credential, \"https://cognitiveservices.azure.com/.default\"\n",
    "    )\n",
    "    openai_client = openai.OpenAI(\n",
    "        base_url=os.environ[\"AZURE_OPENAI_ENDPOINT\"] + \"/openai/v1/\",\n",
    "        api_key=token_provider,\n",
    "    )\n",
    "    # This is actually the deployment name, not the model name\n",
    "    model_name = os.getenv(\"OPENAI_MODEL\", \"gpt-4o\")\n",
    "    \n",
    "print(f\"Using model {model_name}\")"
   ]
  },
  {
   "cell_type": "markdown",
   "metadata": {},
   "source": [
    "## Convert PDFs to images"
   ]
  },
  {
   "cell_type": "code",
   "execution_count": 9,
   "metadata": {},
   "outputs": [
    {
     "name": "stdout",
     "output_type": "stream",
     "text": [
      "Defaulting to user installation because normal site-packages is not writeable\n",
      "Requirement already satisfied: Pillow in /home/vscode/.local/lib/python3.11/site-packages (11.1.0)\n",
      "Requirement already satisfied: PyMuPDF in /home/vscode/.local/lib/python3.11/site-packages (1.25.3)\n",
      "\n",
      "\u001b[1m[\u001b[0m\u001b[34;49mnotice\u001b[0m\u001b[1;39;49m]\u001b[0m\u001b[39;49m A new release of pip is available: \u001b[0m\u001b[31;49m24.0\u001b[0m\u001b[39;49m -> \u001b[0m\u001b[32;49m25.0.1\u001b[0m\n",
      "\u001b[1m[\u001b[0m\u001b[34;49mnotice\u001b[0m\u001b[1;39;49m]\u001b[0m\u001b[39;49m To update, run: \u001b[0m\u001b[32;49mpip install --upgrade pip\u001b[0m\n",
      "Note: you may need to restart the kernel to use updated packages.\n"
     ]
    }
   ],
   "source": [
    "%pip install Pillow PyMuPDF"
   ]
  },
  {
   "cell_type": "code",
   "execution_count": 10,
   "metadata": {},
   "outputs": [],
   "source": [
    "import pymupdf\n",
    "from PIL import Image\n",
    "\n",
    "filename = \"plants.pdf\"\n",
    "doc = pymupdf.open(filename)\n",
    "for i in range(doc.page_count):\n",
    "    doc = pymupdf.open(filename)\n",
    "    page = doc.load_page(i)\n",
    "    pix = page.get_pixmap()\n",
    "    original_img = Image.frombytes(\"RGB\", [pix.width, pix.height], pix.samples)\n",
    "    original_img.save(f\"page_{i}.png\")"
   ]
  },
  {
   "cell_type": "markdown",
   "metadata": {},
   "source": [
    "## Send images to vision model"
   ]
  },
  {
   "cell_type": "code",
   "execution_count": 11,
   "metadata": {},
   "outputs": [],
   "source": [
    "import base64\n",
    "\n",
    "\n",
    "def open_image_as_base64(filename):\n",
    "    with open(filename, \"rb\") as image_file:\n",
    "        image_data = image_file.read()\n",
    "    image_base64 = base64.b64encode(image_data).decode(\"utf-8\")\n",
    "    return f\"data:image/png;base64,{image_base64}\""
   ]
  },
  {
   "cell_type": "code",
   "execution_count": null,
   "metadata": {},
   "outputs": [
    {
     "name": "stdout",
     "output_type": "stream",
     "text": [
      "The plants listed on the provided pages from The Watershed Nursery catalog are as follows:\n",
      "\n",
      "**Annuals:**\n",
      "1. Centromadia pungens (Common tarweed)\n",
      "2. Epilobium densiflorum (Dense Spike-primrose)\n",
      "3. Eschscholzia caespitosa (Tufted Poppy)\n",
      "4. Eschscholzia californica (California poppy)\n",
      "5. Eschscholzia californica 'Purple Gleam' (Purple Gleam Poppy)\n",
      "6. Eschscholzia californica var. maritima (Coastal California Poppy)\n",
      "7. Madia elegans (Tarweed)\n",
      "8. Mentzelia lindleyi (Lindley's Blazing Star)\n",
      "9. Symphyotrichum subulatum (Slim marsh aster)\n",
      "10. Trichostema lanceolatum (Vinegar weed)\n",
      "11. Trichostema lanceolatum (Vinegar weed)\n",
      "\n",
      "**Bulbs:**\n",
      "1. Brodiaea californica (California brodiaea)\n",
      "2. Chlorogalum pomeridianum (Soap plant)\n",
      "3. Epipactis gigantea (Stream orchid)\n",
      "4. Wyethia angustifolia (Narrowleaf mule ears)\n",
      "5. Wyethia angustifolia (Narrowleaf mule ears)\n",
      "6. Wyethia angustifolia (Narrowleaf mule ears)\n",
      "7. Wyethia mollis (Woolly Mule's Ear's)\n",
      "\n",
      "**Grasses:**\n",
      "1. Agrostis pallens (Thingrass)\n",
      "2. Anthoxanthum occidentale (Vanilla grass)\n",
      "3. Bouteloua gracilis (Blue grama)\n",
      "4. Bouteloua gracilis (Blue grama)\n",
      "\n",
      "**Grasses (continued):**\n",
      "1. Bromus laevipes (Woodland Brome)\n",
      "2. Danthonia californica (California oatgrass)\n",
      "3. Danthonia californica (California oatgrass)\n",
      "4. Festuca californica (California fescue)\n",
      "5. Festuca idahoensis (Idaho fescue)\n",
      "6. Festuca idahoensis (Idaho fescue)\n",
      "7. Festuca rubra (Red fescue)\n",
      "8. Sporobolus airoides (Alkali sacaton)\n",
      "9. Stipa cernua (Nodding needlegrass)\n",
      "10. Stipa lepida (Foothill needlegrass)\n",
      "11. Stipa lepida (Foothill needlegrass)\n",
      "12. Stipa pulchra (Purple needlegrass)\n",
      "13. Stipa pulchra (Purple needlegrass)\n",
      "14. Stipa pulchra (Purple needlegrass)\n",
      "15. Stipa pulchra (Purple needlegrass)\n",
      "\n",
      "**Perennials:**\n",
      "1. Achillea millefolium (Yarrow)\n",
      "2. Ambrosia chamissonis (Silvery beachweed)\n",
      "3. Ambrosia chamissonis (Silvery beachweed)\n",
      "4. Anemopsis californica (Yerba mansa)\n",
      "5. Angelica hendersonii (Coast Angelica)\n",
      "6. Apocynum cannabinum (Hemp Dogbane)\n",
      "7. Apocynum cannabinum (Hemp Dogbane)\n",
      "8. Aquilegia eximia (Serpentine columbine)\n",
      "9. Aristolochia californica (California Dutchman's)\n",
      "\n",
      "**Perennials (continued):**\n",
      "1. Armeria maritima (Sea thrift)\n",
      "2. Artemisia douglasiana (Mugwort)\n",
      "3. Asarum caudatum (Wild ginger)\n",
      "4. Asclepias californica (California Milkweed)\n",
      "5. Asclepias eriocarpa (Woolypod milkweed)\n",
      "6. Asclepias fascicularis (Narrow leaf milkweed)\n",
      "7. Asclepias fascicularis (Narrow leaf milkweed)\n",
      "8. Asclepias fascicularis (Narrow leaf milkweed)\n",
      "9. Asclepias fascicularis (Narrow leaf milkweed)\n",
      "10. Asclepias fascicularis (Narrow leaf milkweed)\n",
      "11. Asclepias fascicularis (Narrow leaf milkweed)\n",
      "12. Asclepias fascicularis (Narrow leaf milkweed)\n",
      "13. Asclepias speciosa (Showy milkweed)\n",
      "14. Atriplex leucophylla (Beach Salt Bush)\n",
      "15. Baccharis glutinosa (Marsh baccharis)\n",
      "16. Baccharis glutinosa (Marsh baccharis)\n",
      "17. Baccharis glutinosa (Marsh baccharis)\n",
      "18. Baccharis glutinosa (Marsh baccharis)\n",
      "19. Bidens laevis (Smooth Bur Marigold)\n",
      "20. Bolboschoenus maritimus (Cosmopolitan bulrush)\n",
      "21. Calystegia occidentalis (Western chaparral)\n",
      "22. Calystegia purpurata ssp. saxicola (Bodega Morning Glory)\n",
      "23. Camissoniopsis cheiranthifolia (Beach primrose)\n",
      "24. Campanula rotundifolia (Round Leaf Harebell)\n",
      "25. Carex athrostachya (Slenderbeak sedge)\n",
      "26. Carex barbarae (Santa Barbara sedge)\n"
     ]
    }
   ],
   "source": [
    "user_content = [{\"text\": \"What plants are listed on these pages?\", \"type\": \"text\"}]\n",
    "# Process just the first few pages, as processing all doc.page_count pages is slow\n",
    "for i in range(3):\n",
    "    user_content.append({\"image_url\": {\"url\": open_image_as_base64(f\"page_{i}.png\")}, \"type\": \"image_url\"})\n",
    "\n",
    "response = openai_client.chat.completions.create(\n",
    "    model=model_name, messages=[{\"role\": \"user\", \"content\": user_content}], temperature=0.5\n",
    ")\n",
    "\n",
    "print(response.choices[0].message.content)"
   ]
  }
 ],
 "metadata": {
  "kernelspec": {
   "display_name": "Python 3",
   "language": "python",
   "name": "python3"
  },
  "language_info": {
   "codemirror_mode": {
    "name": "ipython",
    "version": 3
   },
   "file_extension": ".py",
   "mimetype": "text/x-python",
   "name": "python",
   "nbconvert_exporter": "python",
   "pygments_lexer": "ipython3",
   "version": "3.11.10"
  }
 },
 "nbformat": 4,
 "nbformat_minor": 2
}
