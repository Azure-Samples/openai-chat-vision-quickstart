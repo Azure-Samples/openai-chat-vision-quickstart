{
 "cells": [
  {
   "cell_type": "markdown",
   "metadata": {},
   "source": [
    "# Chat with vision models\n"
   ]
  },
  {
   "cell_type": "markdown",
   "metadata": {},
   "source": [
    "## Authenticate to GitHub Models\n"
   ]
  },
  {
   "cell_type": "code",
   "execution_count": 2,
   "metadata": {},
   "outputs": [],
   "source": [
    "import os\n",
    "\n",
    "import openai\n",
    "from dotenv import load_dotenv\n",
    "\n",
    "load_dotenv(\".env\", override=True)\n",
    "\n",
    "openai_client = openai.OpenAI(\n",
    "    api_key=os.environ[\"GITHUB_TOKEN\"],\n",
    "    base_url=\"https://models.inference.ai.azure.com\")"
   ]
  },
  {
   "cell_type": "markdown",
   "metadata": {},
   "source": [
    "## Send an image by Data URI\n",
    "\n"
   ]
  },
  {
   "cell_type": "code",
   "execution_count": 3,
   "metadata": {},
   "outputs": [],
   "source": [
    "import base64\n",
    "\n",
    "\n",
    "def open_image_as_base64(filename):\n",
    "    with open(filename, \"rb\") as image_file:\n",
    "        image_data = image_file.read()\n",
    "    image_base64 = base64.b64encode(image_data).decode(\"utf-8\")\n",
    "    return f\"data:image/png;base64,{image_base64}\""
   ]
  },
  {
   "cell_type": "code",
   "execution_count": 24,
   "metadata": {},
   "outputs": [
    {
     "name": "stdout",
     "output_type": "stream",
     "text": [
      "The insect in the image is a crane fly, also known as a \"daddy long legs\" due to its long, slender legs. Crane flies are often mistaken for giant mosquitoes, but they are harmless to humans and do not bite or transmit diseases.\n",
      "\n",
      "Crane flies are generally considered to be beneficial insects, as their larvae help to break down organic matter in soil and water. They are not typically aggressive and tend to avoid humans.\n",
      "\n",
      "Therefore, there is no need for your 5-year-old to be afraid of this insect in your bathroom. You can simply explain to them that it is a harmless bug and encourage them to observe it from a safe distance if they are interested.\n"
     ]
    }
   ],
   "source": [
    "response = openai_client.chat.completions.create(\n",
    "    model=\"Llama-4-Maverick-17B-128E-Instruct-FP8\",\n",
    "    temperature=0.2,\n",
    "    messages=[\n",
    "        {\n",
    "            \"role\": \"user\",\n",
    "            \"content\": [\n",
    "                {\"text\": \"does my 5 year old need to be afraid of this insect in our bathroom?\", \"type\": \"text\"},\n",
    "                {\"image_url\": {\"url\": open_image_as_base64(\"bathroom_insect.jpeg\")}, \"type\": \"image_url\"},\n",
    "            ],\n",
    "        }\n",
    "    ],\n",
    ")\n",
    "\n",
    "print(response.choices[0].message.content)"
   ]
  },
  {
   "cell_type": "markdown",
   "metadata": {},
   "source": [
    "​\n",
    "\n",
    "​\n",
    "​\n",
    "\n",
    "​\n",
    "\n",
    "​\n",
    "​​\n",
    "​\n",
    "​\n",
    "​\n",
    "​\n",
    "​\n",
    "​\n",
    "\n",
    "​\n",
    "\n",
    "​\n",
    "​\n",
    "​\n",
    "​\n",
    "​\n",
    "#### Automated image captioning"
   ]
  },
  {
   "cell_type": "code",
   "execution_count": 17,
   "metadata": {},
   "outputs": [
    {
     "name": "stdout",
     "output_type": "stream",
     "text": [
      "A diagram showing the components of a container app, including the container app environment, managed identity, log analytics workspace, container registry, and key vault. The components are connected by arrows indicating their relationships.\n"
     ]
    }
   ],
   "source": [
    "response = openai_client.chat.completions.create(\n",
    "    model=\"Llama-4-Maverick-17B-128E-Instruct-FP8\",\n",
    "    temperature=0.5,\n",
    "    messages=[\n",
    "        {\n",
    "            \"role\": \"user\",\n",
    "            \"content\": [\n",
    "                {\"text\": \"Reply with an alt text for this image that is between 1 to 3 sentences. Do not reply with your reasoning.\", \"type\": \"text\"},\n",
    "                {\"image_url\": {\"url\": open_image_as_base64(\"azure_arch.png\")}, \"type\": \"image_url\"},\n",
    "            ],\n",
    "        }\n",
    "    ],\n",
    ")\n",
    "\n",
    "print(response.choices[0].message.content)"
   ]
  },
  {
   "cell_type": "markdown",
   "metadata": {},
   "source": [
    "​\n",
    "\n",
    "​\n",
    "​\n",
    "\n",
    "​\n",
    "\n",
    "​\n",
    "​​\n",
    "​\n",
    "​\n",
    "​\n",
    "​\n",
    "​\n",
    "​\n",
    "\n",
    "​\n",
    "\n",
    "​\n",
    "​\n",
    "​\n",
    "​\n",
    "​\n",
    "\n",
    "#### Assistance for vision-impaired"
   ]
  },
  {
   "cell_type": "code",
   "execution_count": 18,
   "metadata": {},
   "outputs": [
    {
     "name": "stdout",
     "output_type": "stream",
     "text": [
      "**Vegan Options on the Menu**\n",
      "\n",
      "Upon examining the menu, several options can be identified as potentially suitable for a vegan diet. These include:\n",
      "\n",
      "*   **Spinaci Soffritti**: Fresh spinach sautéed with lemon and garlic.\n",
      "*   **Panzanella con Fagioli**: Vine tomatoes and bread salad with sliced onions, basil, marinated Cannellini beans, cucumbers, and avocado, tossed with Carmine's House Vinaigrette. To make this dish vegan, you can request that the grilled chicken or steak be omitted.\n",
      "*   **Zuppa Di Cavolo**: Cream of cauliflower Gratinée. While traditional gratinée recipes often include dairy, it's possible to modify this dish to be vegan by substituting non-dairy ingredients.\n",
      "*   **Zuppa Di Fagioli**: Tuscan Beans and Pasta. This option is likely to be vegan-friendly as it primarily consists of beans and pasta.\n",
      "\n",
      "To ensure that these dishes are prepared without animal products, it's essential to inform your server of your dietary preferences and ask for modifications as needed.\n"
     ]
    }
   ],
   "source": [
    "response = openai_client.chat.completions.create(\n",
    "    model=\"Llama-4-Maverick-17B-128E-Instruct-FP8\",\n",
    "    messages=[\n",
    "        {\n",
    "            \"role\": \"user\",\n",
    "            \"content\": [\n",
    "                {\"text\": \"is there anything good for vegans on this menu?\", \"type\": \"text\"},\n",
    "                {\"image_url\": {\"url\": open_image_as_base64(\"menu.png\")}, \"type\": \"image_url\"},\n",
    "            ],\n",
    "        }\n",
    "    ],\n",
    ")\n",
    "\n",
    "print(response.choices[0].message.content)"
   ]
  },
  {
   "cell_type": "markdown",
   "metadata": {},
   "source": [
    "​\n",
    "\n",
    "​\n",
    "​\n",
    "\n",
    "​\n",
    "\n",
    "​\n",
    "​​\n",
    "​\n",
    "​\n",
    "​\n",
    "​\n",
    "​\n",
    "​\n",
    "\n",
    "​\n",
    "\n",
    "​\n",
    "​\n",
    "​\n",
    "​\n",
    "​\n",
    "\n",
    "\n",
    "#### Insurance claim processing"
   ]
  },
  {
   "cell_type": "code",
   "execution_count": null,
   "metadata": {},
   "outputs": [
    {
     "name": "stdout",
     "output_type": "stream",
     "text": [
      "The claim is not valid. The damage to the vehicle is not consistent with hail damage, which typically causes small, rounded dents on horizontal surfaces. Instead, the damage appears to be a large, deep dent on the hood of the vehicle, suggesting that it was caused by a collision or other impact rather than hail. The severity and location of the damage are more indicative of a crash or other traumatic event than weather-related damage.\n"
     ]
    }
   ],
   "source": [
    "response = openai_client.chat.completions.create(\n",
    "    model=\"Llama-4-Maverick-17B-128E-Instruct-FP8\",\n",
    "    messages=[\n",
    "        {\n",
    "            \"role\": \"system\",\n",
    "            \"content\": (\n",
    "                \"You are an AI assistant that helps auto insurance companies process claims.\"\n",
    "                \"You accept images of damaged cars that are submitted with claims, and you are able to make judgments \"\n",
    "                \"about the causes of automobile damage, and the validity of claims regarding that damage.\"\n",
    "            ),\n",
    "        },\n",
    "        {\n",
    "            \"role\": \"user\",\n",
    "            \"content\": [\n",
    "                {\"text\": \"Claim states that this damage is due to hail. Is it valid?\", \"type\": \"text\"},\n",
    "                {\"image_url\": {\"url\": open_image_as_base64(\"dented_car.jpg\")}, \"type\": \"image_url\"},\n",
    "            ],\n",
    "        },\n",
    "    ],\n",
    ")\n",
    "\n",
    "print(response.choices[0].message.content)"
   ]
  },
  {
   "cell_type": "markdown",
   "metadata": {},
   "source": [
    "​\n",
    "\n",
    "​\n",
    "​\n",
    "\n",
    "​\n",
    "\n",
    "​\n",
    "​​\n",
    "​\n",
    "​\n",
    "​\n",
    "​\n",
    "​\n",
    "​\n",
    "\n",
    "​\n",
    "\n",
    "​\n",
    "​\n",
    "​\n",
    "​\n",
    "​\n",
    "\n",
    "#### Graph analysis"
   ]
  },
  {
   "cell_type": "code",
   "execution_count": null,
   "metadata": {},
   "outputs": [
    {
     "name": "stdout",
     "output_type": "stream",
     "text": [
      "The chart illustrates the annual loss of global tree cover from 2001 to 2023, categorized by climate zone. The data is presented in a stacked bar chart, with each bar representing a year and divided into four sections corresponding to different climate zones: Boreal, Temperate, Subtropical, and Tropical.\n",
      "\n",
      "**Climate Zones and Tree Loss**\n",
      "\n",
      "*   **Tropical Zone**: The Tropical zone consistently exhibits the largest loss of tree cover across all years depicted in the chart.\n",
      "*   **Other Zones**: In contrast, the Boreal, Temperate, and Subtropical zones display significantly lower levels of tree loss compared to the Tropical zone.\n",
      "\n",
      "**Key Observations**\n",
      "\n",
      "*   The Tropical zone's tree loss is substantially higher than the other three zones combined.\n",
      "*   The chart provides a clear visual representation of the relative contributions of each climate zone to global tree cover loss.\n",
      "\n",
      "**Conclusion**\n",
      "\n",
      "Based on the data presented in the chart, it is evident that the **Tropical zone** is experiencing the most significant loss of trees.\n"
     ]
    }
   ],
   "source": [
    "response = openai_client.chat.completions.create(\n",
    "    model=\"Llama-4-Maverick-17B-128E-Instruct-FP8\",\n",
    "    messages=[\n",
    "        {\n",
    "            \"role\": \"user\",\n",
    "            \"content\": [\n",
    "                {\"text\": \"What zone are we losing the most trees in?\", \"type\": \"text\"},\n",
    "                {\n",
    "                    \"image_url\": {\n",
    "                        \"url\": open_image_as_base64(\"graph.png\"),\n",
    "                    },\n",
    "                    \"type\": \"image_url\",\n",
    "                },\n",
    "            ],\n",
    "        }\n",
    "    ],\n",
    "    temperature=0.5,\n",
    ")\n",
    "\n",
    "print(response.choices[0].message.content)"
   ]
  },
  {
   "cell_type": "markdown",
   "metadata": {},
   "source": [
    "​\n",
    "\n",
    "​\n",
    "​\n",
    "\n",
    "​\n",
    "\n",
    "​\n",
    "​​\n",
    "​\n",
    "​\n",
    "​\n",
    "​\n",
    "​\n",
    "​\n",
    "\n",
    "​\n",
    "\n",
    "​\n",
    "​\n",
    "​\n",
    "​\n",
    "​\n",
    "\n",
    "#### Table analysis"
   ]
  },
  {
   "cell_type": "code",
   "execution_count": 20,
   "metadata": {},
   "outputs": [
    {
     "name": "stdout",
     "output_type": "stream",
     "text": [
      "To determine the cheapest plant, we need to examine the prices listed in the table.\n",
      "\n",
      "**Step 1: Identify the Relevant Column**\n",
      "The relevant column for this task is the \"Price\" column.\n",
      "\n",
      "**Step 2: Scan the Price Column**\n",
      "Upon scanning the \"Price\" column, we find various prices for different plants.\n",
      "\n",
      "**Step 3: Compare Prices**\n",
      "Comparing the prices, we notice that:\n",
      "\n",
      "*   Agrostis pallens (Thinggrass) is priced at $0.58.\n",
      "*   Other plants have higher prices.\n",
      "\n",
      "**Step 4: Check for Discounts**\n",
      "Some plants have discounts applied, as indicated by the \"Notes\" column. For example, Agrostis pallens has a 75% discount off its sale price.\n",
      "\n",
      "**Step 5: Calculate the Discounted Price (If Necessary)**\n",
      "Since Agrostis pallens is already listed with its price ($0.58), and it has a 75% discount, we can infer that the listed price is likely after the discount. The original price before the discount would be $0.58 / (1 - 0.75) = $2.32. However, the task is to identify the cheapest plant based on the provided prices.\n",
      "\n",
      "**Conclusion**\n",
      "The cheapest plant is **Agrostis pallens (Thinggrass)**, priced at **$0.58**.\n"
     ]
    }
   ],
   "source": [
    "response = openai_client.chat.completions.create(\n",
    "    model=\"Llama-4-Maverick-17B-128E-Instruct-FP8\",\n",
    "    messages=[\n",
    "        {\n",
    "            \"role\": \"user\",\n",
    "            \"content\": [\n",
    "                {\"text\": \"What's the cheapest plant?\", \"type\": \"text\"},\n",
    "                {\"image_url\": {\"url\": open_image_as_base64(\"page_0.png\")}, \"type\": \"image_url\"},\n",
    "            ],\n",
    "        }\n",
    "    ],\n",
    ")\n",
    "\n",
    "print(response.choices[0].message.content)"
   ]
  }
 ],
 "metadata": {
  "kernelspec": {
   "display_name": ".venv",
   "language": "python",
   "name": "python3"
  },
  "language_info": {
   "codemirror_mode": {
    "name": "ipython",
    "version": 3
   },
   "file_extension": ".py",
   "mimetype": "text/x-python",
   "name": "python",
   "nbconvert_exporter": "python",
   "pygments_lexer": "ipython3",
   "version": "3.11.9"
  }
 },
 "nbformat": 4,
 "nbformat_minor": 2
}
